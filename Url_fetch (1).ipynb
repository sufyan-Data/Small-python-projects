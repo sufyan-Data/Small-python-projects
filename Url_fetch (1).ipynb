{
  "nbformat": 4,
  "nbformat_minor": 0,
  "metadata": {
    "colab": {
      "name": "Url_fetch.ipynb",
      "provenance": []
    },
    "kernelspec": {
      "name": "python3",
      "display_name": "Python 3"
    },
    "language_info": {
      "name": "python"
    }
  },
  "cells": [
    {
      "cell_type": "markdown",
      "source": [
        "**Import Required libraries**"
      ],
      "metadata": {
        "id": "wKTjahE3ALFS"
      }
    },
    {
      "cell_type": "code",
      "source": [
        "import requests\n",
        "from bs4 import BeautifulSoup\n",
        "import pandas as pd"
      ],
      "metadata": {
        "id": "ltiXEj7cAVyj"
      },
      "execution_count": 25,
      "outputs": []
    },
    {
      "cell_type": "markdown",
      "source": [
        "**Targeted URL**"
      ],
      "metadata": {
        "id": "LG5lqyZgAj-P"
      }
    },
    {
      "cell_type": "code",
      "source": [
        "url=('https://zu.edu.pk/')"
      ],
      "metadata": {
        "id": "3_fPwibWAoR0"
      },
      "execution_count": 26,
      "outputs": []
    },
    {
      "cell_type": "markdown",
      "source": [
        "**Request to targeted URL**"
      ],
      "metadata": {
        "id": "f9j6fCmmAsxj"
      }
    },
    {
      "cell_type": "code",
      "source": [
        "reqs=requests.get(url)"
      ],
      "metadata": {
        "id": "BYytzdAwAyLU"
      },
      "execution_count": 27,
      "outputs": []
    },
    {
      "cell_type": "markdown",
      "source": [
        "**HTML PARSING**"
      ],
      "metadata": {
        "id": "J_LDk6q4A7uV"
      }
    },
    {
      "cell_type": "code",
      "source": [
        "soup=BeautifulSoup(reqs.text,'html.parser')"
      ],
      "metadata": {
        "id": "K_UfABVEA_px"
      },
      "execution_count": 28,
      "outputs": []
    },
    {
      "cell_type": "markdown",
      "source": [
        "**Create A EMPTY LIST AND APPEND IT USING OUTPUT**"
      ],
      "metadata": {
        "id": "UErHmfjNBNIP"
      }
    },
    {
      "cell_type": "code",
      "source": [
        "urls=[]\n",
        "for link in soup.findAll('a'):\n",
        "    a=(link.get('href'))\n",
        "    urls.append(a)"
      ],
      "metadata": {
        "id": "gYWh48iQBnaa"
      },
      "execution_count": 32,
      "outputs": []
    },
    {
      "cell_type": "markdown",
      "source": [
        "**FINAL OUTPUT**"
      ],
      "metadata": {
        "id": "_RmdEpELBug-"
      }
    },
    {
      "cell_type": "code",
      "source": [
        "print(urls)"
      ],
      "metadata": {
        "colab": {
          "base_uri": "https://localhost:8080/"
        },
        "id": "CXEziwlVBw2I",
        "outputId": "b867b06e-b815-4ad9-dc59-780afd0b9048"
      },
      "execution_count": 33,
      "outputs": [
        {
          "output_type": "stream",
          "name": "stdout",
          "text": [
            "['https://twitter.com/zuedu', 'https://www.youtube.com/c/ZiauddinUniversityedu/f', 'https://www.facebook.com/zuedu', 'https://www.linkedin.com/company/ziauddin-university', 'http://radio.itelservices.net:8102/fmzu', 'https://api.whatsapp.com/send?phone=+923213665913', 'tel:+9221)358629379', '/cdn-cgi/l/email-protection#2d44434b426d575803484958035d46', 'https://zu.edu.pk/contact/', 'https://careers.zu.edu.pk/', 'javascript:void(0);', 'https://zu.edu.pk/', '#content', None, 'https://zu.edu.pk/about-zu/sir-ziauddin-ahmed/', 'https://zu.edu.pk/about-zu/ziauddin-university/', 'https://zu.edu.pk/about-zu/mission-vision/', 'https://zu.edu.pk/about-zu/messages/chancellor/', 'https://zu.edu.pk/about-zu/messages/vice-chancellor/', 'https://zu.edu.pk/about-zu/governance-management/governing-body/', 'https://zu.edu.pk/about-zu/governance-management/academic-council/', 'https://zu.edu.pk/about-zu/governance-management/basr-committee/', 'https://zu.edu.pk/about-zu/governance-management/ethics-review-committee/', 'https://zu.edu.pk/about-zu/governance-management/clinical-research-committee/', 'https://zu.edu.pk/accereditations/', 'https://zu.edu.pk/about-zu/affiliations-collaborations/', 'https://zu.edu.pk/about-zu/location/', 'https://admission.zu.edu.pk/', 'https://zu.edu.pk/bachelors-undergraduate/', 'https://zu.edu.pk/masters-graduate-postgraduate-programs/', 'https://zu.edu.pk/diploma-certified-courses/', 'https://zflpg.zu.edu.pk/ll-b-hons/', 'https://zufestm.zu.edu.pk/undergraduate/bahons-business-management/', 'https://zufestm.zu.edu.pk/undergraduate/higher-national-diploma-hnd/introduction/', 'https://zu.edu.pk/online-application-process/', 'https://zu.edu.pk/wp-content/uploads/2022/06/1a.-Postgraduate-Policies_Rev-2022.pdf', 'https://zu.edu.pk/fee-structure/', 'https://zu.edu.pk/faqs/', 'https://zu.edu.pk/contact-admissions-team/', '#', 'https://zu.edu.pk/directorate-of-education-development/', 'https://zu.edu.pk/academics/quality-enhancement-cell/', 'https://zu.edu.pk/achievements/', 'https://cme.zu.edu.pk/', 'http://library.zu.edu.pk/', '#', '#', 'https://zu.edu.pk/oric/introduction/', 'https://zu.edu.pk/oric/director-oric/', 'https://zu.edu.pk/oric/introduction/achievements/', 'https://zu.edu.pk/oric/introduction/experts/', 'https://zu.edu.pk/multidisciplinary-research-laboratories/', 'https://zu.edu.pk/oric/introduction/initiatives/', 'https://zu.edu.pk/oric/introduction/conferences-paper-presentation/', 'https://zu.edu.pk/oric/introduction/publication-project/', 'https://zu.edu.pk/oric/introduction/workshops-webinars-seminars/', 'https://zu.edu.pk/oric-team/', 'https://zu.edu.pk/oric/sustainability-office/', 'https://zu.edu.pk/research/research-department/introduction/', 'https://zu.edu.pk/research/research-department/vision-mission/', 'https://zu.edu.pk/research/research-department/hod-message/', 'https://zu.edu.pk/research/research-department/collaborations/', 'https://zu.edu.pk/research/research-department/core-facilities/', 'https://zu.edu.pk/research/research-department/contact/', 'https://zu.edu.pk/research/research-department/human-resources/', 'https://zu.edu.pk/conferences/conference-2018/', 'https://zu.edu.pk/conferences/conference-2019/', 'https://lahs.zu.edu.pk/conference/', 'https://zu.edu.pk/ziauddin-journal-of-pharmaceutical-research/', 'https://pjmd.zu.edu.pk/', 'https://pjr.zu.edu.pk/', 'https://jlahs.zu.edu.pk/', 'https://drive.google.com/file/d/1ETWlbTryBdlpeQMKSEkychNd3mgBQaqe/view?usp=sharing', 'https://zu.edu.pk/publications/graduate-directory-2022/', 'https://zu.edu.pk/wp-content/uploads/2021/12/ZU-Annual-Report-1-Dec-2021.pdf', 'https://zu.edu.pk/publications/news-letters/', '#', 'https://alumni.zu.edu.pk/', 'https://zu.edu.pk/alumni-reunion/', 'https://zu.edu.pk/verification/', 'https://admission.zu.edu.pk/?utm_source=ZU+Website&utm_medium=Admission+Open+Button+Click', 'https://zu.edu.pk/gallery/', 'https://zu.edu.pk/upcoming-activities-events/', 'https://zu.edu.pk/faculty-of-health-sciences/', 'https://zu.edu.pk/faculty-of-pharmacy/', 'https://zu.edu.pk/faculty-of-engineering-science-technology-management/', 'https://zu.edu.pk/faculty-of-eastern-medicine/', 'https://zu.edu.pk/faculty-of-law/', 'https://zu.edu.pk/faculty-of-liberal-arts-and-human-sciences/', 'https://zu.edu.pk/faculty-of-nursing-midwifery/', 'https://zu.edu.pk/faculty-of-veterinary-and-animal-sciences/', 'https://zu.edu.pk/news/research-methodology/', None, 'https://zu.edu.pk/category/news/', 'https://zu.edu.pk/category/news-events/', 'https://zu.edu.pk/news/research-methodology/', 'https://zu.edu.pk/news/report-on-second-line-master-training-workshop-on-certificate-course-for-nursing-educators/', None, 'https://zu.edu.pk/category/news/', 'https://zu.edu.pk/category/news-events/', 'https://zu.edu.pk/news/report-on-second-line-master-training-workshop-on-certificate-course-for-nursing-educators/', 'https://zu.edu.pk/news/report-on-tribute-to-nurses-and-midwives-as-front-line-soldiers-who-performed-selfless-services-for-nation-against-covid-19-pandemic/', None, 'https://zu.edu.pk/category/news/', 'https://zu.edu.pk/category/news-events/', 'https://zu.edu.pk/news/report-on-tribute-to-nurses-and-midwives-as-front-line-soldiers-who-performed-selfless-services-for-nation-against-covid-19-pandemic/', 'https://zu.edu.pk/news/oric-session-on-design-thinking-in-research-and-prototyping/', None, 'https://zu.edu.pk/category/news/', 'https://zu.edu.pk/category/news-events/', 'https://zu.edu.pk/news/oric-session-on-design-thinking-in-research-and-prototyping/', 'https://zu.edu.pk/news/report-on-tropical-and-communicable-diseases-teaching-at-hospital-facility/', None, 'https://zu.edu.pk/category/news/', 'https://zu.edu.pk/category/news-events/', 'https://zu.edu.pk/news/report-on-tropical-and-communicable-diseases-teaching-at-hospital-facility/', 'https://zu.edu.pk/news/lahooti-melo/', None, 'https://zu.edu.pk/category/news/', 'https://zu.edu.pk/category/news-events/', 'https://zu.edu.pk/news/lahooti-melo/', 'https://zu.edu.pk/news/summer-gala/', None, 'https://zu.edu.pk/category/news/', 'https://zu.edu.pk/category/news-events/', 'https://zu.edu.pk/news/summer-gala/', 'https://zu.edu.pk/news/admissions-are-open/', None, 'https://zu.edu.pk/category/news/', 'https://zu.edu.pk/category/news-events/', 'https://zu.edu.pk/news/admissions-are-open/', 'https://zu.edu.pk/news/two-year-postgraduate-diploma-in-medical-jurisprudence-dmj/', None, 'https://zu.edu.pk/category/news/', 'https://zu.edu.pk/category/news-events/', 'https://zu.edu.pk/news/two-year-postgraduate-diploma-in-medical-jurisprudence-dmj/', 'https://zu.edu.pk/news/research-technology-expo-2022/', None, 'https://zu.edu.pk/category/news/', 'https://zu.edu.pk/category/news-events/', 'https://zu.edu.pk/news/research-technology-expo-2022/', 'http://my.zu.edu.pk/', 'https://alumni.zu.edu.pk/', 'https://mail.google.com/', 'https://admission.zu.edu.pk/', 'https://zu.edu.pk/contact/', 'https://zu.edu.pk/disclaimer/', 'https://zu.edu.pk/privacy-statement/', 'https://zu.edu.pk/feedback/', '/cdn-cgi/l/email-protection#a5cccbc3cae5dfd08bc0c1d08bd5ce', 'http://www.zu.edu.pk', 'https://zu.edu.pk', '#top']\n"
          ]
        }
      ]
    },
    {
      "cell_type": "code",
      "source": [
        "final_output=pd.DataFrame(urls)"
      ],
      "metadata": {
        "id": "S2n7xZ7xBymh"
      },
      "execution_count": 15,
      "outputs": []
    },
    {
      "cell_type": "code",
      "source": [
        "final_output"
      ],
      "metadata": {
        "colab": {
          "base_uri": "https://localhost:8080/",
          "height": 655
        },
        "id": "_9mcMat2CSwE",
        "outputId": "7c0f85a2-f7de-48f3-b07f-fe14847eee34"
      },
      "execution_count": 16,
      "outputs": [
        {
          "output_type": "execute_result",
          "data": {
            "text/plain": [
              "                                                     0\n",
              "0         https://www.learnbay.co/data-science-course/\n",
              "1             https://learnbay.co/data-science-course/\n",
              "2                                                    #\n",
              "3    https://learnbay.co/data-science-course/data-s...\n",
              "4    https://learnbay.co/data-science-course/data-s...\n",
              "..                                                 ...\n",
              "291  https://learnbay.co/data-science-course/demo-s...\n",
              "292  https://learnbay.co/data-science-course/blogs-...\n",
              "293  https://learnbay.co/data-science-course/data-s...\n",
              "294                                               None\n",
              "295                                               None\n",
              "\n",
              "[296 rows x 1 columns]"
            ],
            "text/html": [
              "\n",
              "  <div id=\"df-ac283afd-9ff4-4e52-b933-8bae8746d7be\">\n",
              "    <div class=\"colab-df-container\">\n",
              "      <div>\n",
              "<style scoped>\n",
              "    .dataframe tbody tr th:only-of-type {\n",
              "        vertical-align: middle;\n",
              "    }\n",
              "\n",
              "    .dataframe tbody tr th {\n",
              "        vertical-align: top;\n",
              "    }\n",
              "\n",
              "    .dataframe thead th {\n",
              "        text-align: right;\n",
              "    }\n",
              "</style>\n",
              "<table border=\"1\" class=\"dataframe\">\n",
              "  <thead>\n",
              "    <tr style=\"text-align: right;\">\n",
              "      <th></th>\n",
              "      <th>0</th>\n",
              "    </tr>\n",
              "  </thead>\n",
              "  <tbody>\n",
              "    <tr>\n",
              "      <th>0</th>\n",
              "      <td>https://www.learnbay.co/data-science-course/</td>\n",
              "    </tr>\n",
              "    <tr>\n",
              "      <th>1</th>\n",
              "      <td>https://learnbay.co/data-science-course/</td>\n",
              "    </tr>\n",
              "    <tr>\n",
              "      <th>2</th>\n",
              "      <td>#</td>\n",
              "    </tr>\n",
              "    <tr>\n",
              "      <th>3</th>\n",
              "      <td>https://learnbay.co/data-science-course/data-s...</td>\n",
              "    </tr>\n",
              "    <tr>\n",
              "      <th>4</th>\n",
              "      <td>https://learnbay.co/data-science-course/data-s...</td>\n",
              "    </tr>\n",
              "    <tr>\n",
              "      <th>...</th>\n",
              "      <td>...</td>\n",
              "    </tr>\n",
              "    <tr>\n",
              "      <th>291</th>\n",
              "      <td>https://learnbay.co/data-science-course/demo-s...</td>\n",
              "    </tr>\n",
              "    <tr>\n",
              "      <th>292</th>\n",
              "      <td>https://learnbay.co/data-science-course/blogs-...</td>\n",
              "    </tr>\n",
              "    <tr>\n",
              "      <th>293</th>\n",
              "      <td>https://learnbay.co/data-science-course/data-s...</td>\n",
              "    </tr>\n",
              "    <tr>\n",
              "      <th>294</th>\n",
              "      <td>None</td>\n",
              "    </tr>\n",
              "    <tr>\n",
              "      <th>295</th>\n",
              "      <td>None</td>\n",
              "    </tr>\n",
              "  </tbody>\n",
              "</table>\n",
              "<p>296 rows × 1 columns</p>\n",
              "</div>\n",
              "      <button class=\"colab-df-convert\" onclick=\"convertToInteractive('df-ac283afd-9ff4-4e52-b933-8bae8746d7be')\"\n",
              "              title=\"Convert this dataframe to an interactive table.\"\n",
              "              style=\"display:none;\">\n",
              "        \n",
              "  <svg xmlns=\"http://www.w3.org/2000/svg\" height=\"24px\"viewBox=\"0 0 24 24\"\n",
              "       width=\"24px\">\n",
              "    <path d=\"M0 0h24v24H0V0z\" fill=\"none\"/>\n",
              "    <path d=\"M18.56 5.44l.94 2.06.94-2.06 2.06-.94-2.06-.94-.94-2.06-.94 2.06-2.06.94zm-11 1L8.5 8.5l.94-2.06 2.06-.94-2.06-.94L8.5 2.5l-.94 2.06-2.06.94zm10 10l.94 2.06.94-2.06 2.06-.94-2.06-.94-.94-2.06-.94 2.06-2.06.94z\"/><path d=\"M17.41 7.96l-1.37-1.37c-.4-.4-.92-.59-1.43-.59-.52 0-1.04.2-1.43.59L10.3 9.45l-7.72 7.72c-.78.78-.78 2.05 0 2.83L4 21.41c.39.39.9.59 1.41.59.51 0 1.02-.2 1.41-.59l7.78-7.78 2.81-2.81c.8-.78.8-2.07 0-2.86zM5.41 20L4 18.59l7.72-7.72 1.47 1.35L5.41 20z\"/>\n",
              "  </svg>\n",
              "      </button>\n",
              "      \n",
              "  <style>\n",
              "    .colab-df-container {\n",
              "      display:flex;\n",
              "      flex-wrap:wrap;\n",
              "      gap: 12px;\n",
              "    }\n",
              "\n",
              "    .colab-df-convert {\n",
              "      background-color: #E8F0FE;\n",
              "      border: none;\n",
              "      border-radius: 50%;\n",
              "      cursor: pointer;\n",
              "      display: none;\n",
              "      fill: #1967D2;\n",
              "      height: 32px;\n",
              "      padding: 0 0 0 0;\n",
              "      width: 32px;\n",
              "    }\n",
              "\n",
              "    .colab-df-convert:hover {\n",
              "      background-color: #E2EBFA;\n",
              "      box-shadow: 0px 1px 2px rgba(60, 64, 67, 0.3), 0px 1px 3px 1px rgba(60, 64, 67, 0.15);\n",
              "      fill: #174EA6;\n",
              "    }\n",
              "\n",
              "    [theme=dark] .colab-df-convert {\n",
              "      background-color: #3B4455;\n",
              "      fill: #D2E3FC;\n",
              "    }\n",
              "\n",
              "    [theme=dark] .colab-df-convert:hover {\n",
              "      background-color: #434B5C;\n",
              "      box-shadow: 0px 1px 3px 1px rgba(0, 0, 0, 0.15);\n",
              "      filter: drop-shadow(0px 1px 2px rgba(0, 0, 0, 0.3));\n",
              "      fill: #FFFFFF;\n",
              "    }\n",
              "  </style>\n",
              "\n",
              "      <script>\n",
              "        const buttonEl =\n",
              "          document.querySelector('#df-ac283afd-9ff4-4e52-b933-8bae8746d7be button.colab-df-convert');\n",
              "        buttonEl.style.display =\n",
              "          google.colab.kernel.accessAllowed ? 'block' : 'none';\n",
              "\n",
              "        async function convertToInteractive(key) {\n",
              "          const element = document.querySelector('#df-ac283afd-9ff4-4e52-b933-8bae8746d7be');\n",
              "          const dataTable =\n",
              "            await google.colab.kernel.invokeFunction('convertToInteractive',\n",
              "                                                     [key], {});\n",
              "          if (!dataTable) return;\n",
              "\n",
              "          const docLinkHtml = 'Like what you see? Visit the ' +\n",
              "            '<a target=\"_blank\" href=https://colab.research.google.com/notebooks/data_table.ipynb>data table notebook</a>'\n",
              "            + ' to learn more about interactive tables.';\n",
              "          element.innerHTML = '';\n",
              "          dataTable['output_type'] = 'display_data';\n",
              "          await google.colab.output.renderOutput(dataTable, element);\n",
              "          const docLink = document.createElement('div');\n",
              "          docLink.innerHTML = docLinkHtml;\n",
              "          element.appendChild(docLink);\n",
              "        }\n",
              "      </script>\n",
              "    </div>\n",
              "  </div>\n",
              "  "
            ]
          },
          "metadata": {},
          "execution_count": 16
        }
      ]
    },
    {
      "cell_type": "code",
      "source": [
        "final_output.to_csv(\"finaloutput.csv\",index=False)"
      ],
      "metadata": {
        "id": "WQe4B6hTCWoR"
      },
      "execution_count": 23,
      "outputs": []
    },
    {
      "cell_type": "code",
      "source": [
        "final_output"
      ],
      "metadata": {
        "colab": {
          "base_uri": "https://localhost:8080/",
          "height": 424
        },
        "id": "9BkeGOy_GAyk",
        "outputId": "dbb4ed6e-aaec-4d75-9045-b7cebf06c8f1"
      },
      "execution_count": 24,
      "outputs": [
        {
          "output_type": "execute_result",
          "data": {
            "text/plain": [
              "                                                     0\n",
              "0         https://www.learnbay.co/data-science-course/\n",
              "1             https://learnbay.co/data-science-course/\n",
              "2                                                    #\n",
              "3    https://learnbay.co/data-science-course/data-s...\n",
              "4    https://learnbay.co/data-science-course/data-s...\n",
              "..                                                 ...\n",
              "291  https://learnbay.co/data-science-course/demo-s...\n",
              "292  https://learnbay.co/data-science-course/blogs-...\n",
              "293  https://learnbay.co/data-science-course/data-s...\n",
              "294                                               None\n",
              "295                                               None\n",
              "\n",
              "[296 rows x 1 columns]"
            ],
            "text/html": [
              "\n",
              "  <div id=\"df-07b1f34c-ba71-4320-9bf1-458db5007e3f\">\n",
              "    <div class=\"colab-df-container\">\n",
              "      <div>\n",
              "<style scoped>\n",
              "    .dataframe tbody tr th:only-of-type {\n",
              "        vertical-align: middle;\n",
              "    }\n",
              "\n",
              "    .dataframe tbody tr th {\n",
              "        vertical-align: top;\n",
              "    }\n",
              "\n",
              "    .dataframe thead th {\n",
              "        text-align: right;\n",
              "    }\n",
              "</style>\n",
              "<table border=\"1\" class=\"dataframe\">\n",
              "  <thead>\n",
              "    <tr style=\"text-align: right;\">\n",
              "      <th></th>\n",
              "      <th>0</th>\n",
              "    </tr>\n",
              "  </thead>\n",
              "  <tbody>\n",
              "    <tr>\n",
              "      <th>0</th>\n",
              "      <td>https://www.learnbay.co/data-science-course/</td>\n",
              "    </tr>\n",
              "    <tr>\n",
              "      <th>1</th>\n",
              "      <td>https://learnbay.co/data-science-course/</td>\n",
              "    </tr>\n",
              "    <tr>\n",
              "      <th>2</th>\n",
              "      <td>#</td>\n",
              "    </tr>\n",
              "    <tr>\n",
              "      <th>3</th>\n",
              "      <td>https://learnbay.co/data-science-course/data-s...</td>\n",
              "    </tr>\n",
              "    <tr>\n",
              "      <th>4</th>\n",
              "      <td>https://learnbay.co/data-science-course/data-s...</td>\n",
              "    </tr>\n",
              "    <tr>\n",
              "      <th>...</th>\n",
              "      <td>...</td>\n",
              "    </tr>\n",
              "    <tr>\n",
              "      <th>291</th>\n",
              "      <td>https://learnbay.co/data-science-course/demo-s...</td>\n",
              "    </tr>\n",
              "    <tr>\n",
              "      <th>292</th>\n",
              "      <td>https://learnbay.co/data-science-course/blogs-...</td>\n",
              "    </tr>\n",
              "    <tr>\n",
              "      <th>293</th>\n",
              "      <td>https://learnbay.co/data-science-course/data-s...</td>\n",
              "    </tr>\n",
              "    <tr>\n",
              "      <th>294</th>\n",
              "      <td>None</td>\n",
              "    </tr>\n",
              "    <tr>\n",
              "      <th>295</th>\n",
              "      <td>None</td>\n",
              "    </tr>\n",
              "  </tbody>\n",
              "</table>\n",
              "<p>296 rows × 1 columns</p>\n",
              "</div>\n",
              "      <button class=\"colab-df-convert\" onclick=\"convertToInteractive('df-07b1f34c-ba71-4320-9bf1-458db5007e3f')\"\n",
              "              title=\"Convert this dataframe to an interactive table.\"\n",
              "              style=\"display:none;\">\n",
              "        \n",
              "  <svg xmlns=\"http://www.w3.org/2000/svg\" height=\"24px\"viewBox=\"0 0 24 24\"\n",
              "       width=\"24px\">\n",
              "    <path d=\"M0 0h24v24H0V0z\" fill=\"none\"/>\n",
              "    <path d=\"M18.56 5.44l.94 2.06.94-2.06 2.06-.94-2.06-.94-.94-2.06-.94 2.06-2.06.94zm-11 1L8.5 8.5l.94-2.06 2.06-.94-2.06-.94L8.5 2.5l-.94 2.06-2.06.94zm10 10l.94 2.06.94-2.06 2.06-.94-2.06-.94-.94-2.06-.94 2.06-2.06.94z\"/><path d=\"M17.41 7.96l-1.37-1.37c-.4-.4-.92-.59-1.43-.59-.52 0-1.04.2-1.43.59L10.3 9.45l-7.72 7.72c-.78.78-.78 2.05 0 2.83L4 21.41c.39.39.9.59 1.41.59.51 0 1.02-.2 1.41-.59l7.78-7.78 2.81-2.81c.8-.78.8-2.07 0-2.86zM5.41 20L4 18.59l7.72-7.72 1.47 1.35L5.41 20z\"/>\n",
              "  </svg>\n",
              "      </button>\n",
              "      \n",
              "  <style>\n",
              "    .colab-df-container {\n",
              "      display:flex;\n",
              "      flex-wrap:wrap;\n",
              "      gap: 12px;\n",
              "    }\n",
              "\n",
              "    .colab-df-convert {\n",
              "      background-color: #E8F0FE;\n",
              "      border: none;\n",
              "      border-radius: 50%;\n",
              "      cursor: pointer;\n",
              "      display: none;\n",
              "      fill: #1967D2;\n",
              "      height: 32px;\n",
              "      padding: 0 0 0 0;\n",
              "      width: 32px;\n",
              "    }\n",
              "\n",
              "    .colab-df-convert:hover {\n",
              "      background-color: #E2EBFA;\n",
              "      box-shadow: 0px 1px 2px rgba(60, 64, 67, 0.3), 0px 1px 3px 1px rgba(60, 64, 67, 0.15);\n",
              "      fill: #174EA6;\n",
              "    }\n",
              "\n",
              "    [theme=dark] .colab-df-convert {\n",
              "      background-color: #3B4455;\n",
              "      fill: #D2E3FC;\n",
              "    }\n",
              "\n",
              "    [theme=dark] .colab-df-convert:hover {\n",
              "      background-color: #434B5C;\n",
              "      box-shadow: 0px 1px 3px 1px rgba(0, 0, 0, 0.15);\n",
              "      filter: drop-shadow(0px 1px 2px rgba(0, 0, 0, 0.3));\n",
              "      fill: #FFFFFF;\n",
              "    }\n",
              "  </style>\n",
              "\n",
              "      <script>\n",
              "        const buttonEl =\n",
              "          document.querySelector('#df-07b1f34c-ba71-4320-9bf1-458db5007e3f button.colab-df-convert');\n",
              "        buttonEl.style.display =\n",
              "          google.colab.kernel.accessAllowed ? 'block' : 'none';\n",
              "\n",
              "        async function convertToInteractive(key) {\n",
              "          const element = document.querySelector('#df-07b1f34c-ba71-4320-9bf1-458db5007e3f');\n",
              "          const dataTable =\n",
              "            await google.colab.kernel.invokeFunction('convertToInteractive',\n",
              "                                                     [key], {});\n",
              "          if (!dataTable) return;\n",
              "\n",
              "          const docLinkHtml = 'Like what you see? Visit the ' +\n",
              "            '<a target=\"_blank\" href=https://colab.research.google.com/notebooks/data_table.ipynb>data table notebook</a>'\n",
              "            + ' to learn more about interactive tables.';\n",
              "          element.innerHTML = '';\n",
              "          dataTable['output_type'] = 'display_data';\n",
              "          await google.colab.output.renderOutput(dataTable, element);\n",
              "          const docLink = document.createElement('div');\n",
              "          docLink.innerHTML = docLinkHtml;\n",
              "          element.appendChild(docLink);\n",
              "        }\n",
              "      </script>\n",
              "    </div>\n",
              "  </div>\n",
              "  "
            ]
          },
          "metadata": {},
          "execution_count": 24
        }
      ]
    },
    {
      "cell_type": "code",
      "source": [
        ""
      ],
      "metadata": {
        "id": "xbpqODoYKcaM"
      },
      "execution_count": null,
      "outputs": []
    }
  ]
}